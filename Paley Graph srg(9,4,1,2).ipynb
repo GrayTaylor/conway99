{
 "cells": [
  {
   "cell_type": "code",
   "execution_count": 1,
   "metadata": {},
   "outputs": [
    {
     "name": "stdout",
     "output_type": "stream",
     "text": [
      "Populating the interactive namespace from numpy and matplotlib\n"
     ]
    }
   ],
   "source": [
    "# use magic to install all pylab functions (allows easy definition of n-dimensional empty arrays)\n",
    "%pylab inline"
   ]
  },
  {
   "cell_type": "code",
   "execution_count": 23,
   "metadata": {},
   "outputs": [],
   "source": [
    "# import libraries\n",
    "import pulp as lp\n",
    "import numpy as np\n",
    "import networkx as nx\n",
    "from networkx.drawing.nx_pydot import write_dot"
   ]
  },
  {
   "cell_type": "code",
   "execution_count": 3,
   "metadata": {},
   "outputs": [],
   "source": [
    "# Set params\n",
    "order = 9\n",
    "degree = 4"
   ]
  },
  {
   "cell_type": "code",
   "execution_count": 4,
   "metadata": {},
   "outputs": [],
   "source": [
    "# Assumed params\n",
    "l = 1\n",
    "m = 2"
   ]
  },
  {
   "cell_type": "code",
   "execution_count": 5,
   "metadata": {},
   "outputs": [],
   "source": [
    "# only interested in feasibility, so trivial objective\n",
    "graphprob = lp.LpProblem(name=\"SRG({},{},{},{})_problem\".format(order,degree,l,m), sense=lp.LpMinimize)\n",
    "graphprob += 0, \"feasibility_obj\""
   ]
  },
  {
   "cell_type": "code",
   "execution_count": 6,
   "metadata": {},
   "outputs": [],
   "source": [
    "# define variables to indicate if vertices i,j are neighbours\n",
    "edge_variables = empty((order,order), dtype='object')\n",
    "for i in range(order):\n",
    "    for j in range(order):\n",
    "        name = 'A_{},{}'.format(str(i + 1), str(j + 1))\n",
    "        var = lp.LpVariable(name, cat='Binary')\n",
    "        edge_variables[i,j] = var"
   ]
  },
  {
   "cell_type": "code",
   "execution_count": 7,
   "metadata": {},
   "outputs": [],
   "source": [
    "# define variables to indicate when vertex k is a mutual neighbour of vertices i<j\n",
    "mutual_variables=empty((order,order,order), dtype='object')\n",
    "for i in range(order):\n",
    "    for j in range(order):\n",
    "        for k in range(order):\n",
    "            name = 'M_{},{},{}'.format(i + 1, j + 1, k + 1)\n",
    "            var = lp.LpVariable(name, cat='Binary')\n",
    "            mutual_variables[i,j,k] = var"
   ]
  },
  {
   "cell_type": "code",
   "execution_count": 8,
   "metadata": {},
   "outputs": [],
   "source": [
    "# enforce symmetry and non self-adjacency\n",
    "for i in range(order):\n",
    "    graphprob += edge_variables[i,i] == 0, \"vertex {} not self adjacent\".format(i + 1)\n",
    "    \n",
    "for i in range(order):\n",
    "    for j in range(order):\n",
    "        if i != j:\n",
    "            graphprob += edge_variables[i,j] == edge_variables[j,i], \"{},{} symmetry\".format(i + 1, j + 1)"
   ]
  },
  {
   "cell_type": "code",
   "execution_count": 9,
   "metadata": {},
   "outputs": [],
   "source": [
    "# enforce vertex degree\n",
    "for i in range(order):\n",
    "    graphprob += lp.lpSum(edge_variables[i,0:order]) == degree, \"vertex {} degree {}\".format(i,degree)"
   ]
  },
  {
   "cell_type": "code",
   "execution_count": 10,
   "metadata": {},
   "outputs": [],
   "source": [
    "# Enforce mutual neighbour conditions (special case of l = m - 1 here!)\n",
    "\n",
    "for i in range(order):\n",
    "    for j in range(order):\n",
    "        if i != j:\n",
    "            graphprob += (edge_variables[i,j] + lp.lpSum(mutual_variables[i,j,0:order])) == 2, \"Neighbour conditions on {},{}\".format(i + 1, j + 1)"
   ]
  },
  {
   "cell_type": "code",
   "execution_count": 11,
   "metadata": {},
   "outputs": [],
   "source": [
    "# Make sure mutual neighbour indicators are reflected in adjacency structure!\n",
    "\n",
    "# indicator set requires edges\n",
    "for i in range(order):\n",
    "    for j in range(order):\n",
    "        if i != j:\n",
    "            for k in range(order):\n",
    "                graphprob+= edge_variables[i,k] >= mutual_variables[i,j,k]\n",
    "                graphprob+= edge_variables[k,i] >= mutual_variables[i,j,k]\n",
    "                \n",
    "                \n",
    "# mutual neighbouring requires indicator\n",
    "for i in range(order):\n",
    "    for j in range(order):\n",
    "        if i != j:\n",
    "            for k in range(order):\n",
    "                graphprob+= edge_variables[i,k] + edge_variables[j,k] - mutual_variables[i,j,k] <= 1"
   ]
  },
  {
   "cell_type": "code",
   "execution_count": 12,
   "metadata": {},
   "outputs": [],
   "source": [
    "# Symmetry condition on mutual neighbouring\n",
    "\n",
    "for i in range(order):\n",
    "    for j in range(order):\n",
    "            if i != j:\n",
    "                for k in range(order):\n",
    "                    graphprob += mutual_variables[i,j,k] == mutual_variables[j,i,k]"
   ]
  },
  {
   "cell_type": "code",
   "execution_count": 13,
   "metadata": {},
   "outputs": [
    {
     "data": {
      "text/plain": [
       "2754"
      ]
     },
     "execution_count": 13,
     "metadata": {},
     "output_type": "execute_result"
    }
   ],
   "source": [
    "len(graphprob.constraints)"
   ]
  },
  {
   "cell_type": "code",
   "execution_count": 14,
   "metadata": {},
   "outputs": [
    {
     "data": {
      "text/plain": [
       "729"
      ]
     },
     "execution_count": 14,
     "metadata": {},
     "output_type": "execute_result"
    }
   ],
   "source": [
    "len(graphprob.variables())"
   ]
  },
  {
   "cell_type": "code",
   "execution_count": 15,
   "metadata": {},
   "outputs": [
    {
     "name": "stdout",
     "output_type": "stream",
     "text": [
      "Wall time: 185 ms\n"
     ]
    },
    {
     "data": {
      "text/plain": [
       "1"
      ]
     },
     "execution_count": 15,
     "metadata": {},
     "output_type": "execute_result"
    }
   ],
   "source": [
    "# run the solver\n",
    "%time graphprob.solve()"
   ]
  },
  {
   "cell_type": "code",
   "execution_count": 16,
   "metadata": {},
   "outputs": [
    {
     "data": {
      "text/plain": [
       "1"
      ]
     },
     "execution_count": 16,
     "metadata": {},
     "output_type": "execute_result"
    }
   ],
   "source": [
    "graphprob.status"
   ]
  },
  {
   "cell_type": "code",
   "execution_count": 17,
   "metadata": {},
   "outputs": [],
   "source": [
    "# populate a matrix in accordance with the edge list found\n",
    "A=np.zeros((order,order))\n",
    "for i in range(order):\n",
    "    for j in range(order):\n",
    "        if edge_variables[i,j].value()>0:\n",
    "            A[i,j]=1"
   ]
  },
  {
   "cell_type": "code",
   "execution_count": 18,
   "metadata": {},
   "outputs": [],
   "source": [
    "# Pieces for verification\n",
    "Jv=np.ones((order,order))\n",
    "Iv=np.eye(order)"
   ]
  },
  {
   "cell_type": "code",
   "execution_count": 19,
   "metadata": {},
   "outputs": [
    {
     "data": {
      "text/plain": [
       "True"
      ]
     },
     "execution_count": 19,
     "metadata": {},
     "output_type": "execute_result"
    }
   ],
   "source": [
    "# verify degree condition\n",
    "AJ=np.dot(A,Jv)\n",
    "np.all(AJ==degree)"
   ]
  },
  {
   "cell_type": "code",
   "execution_count": 20,
   "metadata": {},
   "outputs": [
    {
     "data": {
      "text/plain": [
       "True"
      ]
     },
     "execution_count": 20,
     "metadata": {},
     "output_type": "execute_result"
    }
   ],
   "source": [
    "# verify quadratic condition\n",
    "cond2=np.dot(A,A)+(m-l)*A+(m-degree)*Iv\n",
    "np.all(cond2==m)"
   ]
  },
  {
   "cell_type": "code",
   "execution_count": 21,
   "metadata": {},
   "outputs": [
    {
     "name": "stderr",
     "output_type": "stream",
     "text": [
      "C:\\Users\\Graeme\\Anaconda3\\lib\\site-packages\\networkx\\drawing\\nx_pylab.py:611: MatplotlibDeprecationWarning: isinstance(..., numbers.Number)\n",
      "  if cb.is_numlike(alpha):\n"
     ]
    },
    {
     "data": {
      "image/png": "[encoded data removed]",
      "text/plain": [
       "<Figure size 432x288 with 1 Axes>"
      ]
     },
     "metadata": {},
     "output_type": "display_data"
    }
   ],
   "source": [
    "# take a look at our result\n",
    "G = nx.from_numpy_matrix(A) \n",
    "nx.draw_circular(G, with_labels=False)"
   ]
  },
  {
   "cell_type": "code",
   "execution_count": 24,
   "metadata": {},
   "outputs": [],
   "source": [
    "write_dot(G,'Paley9412.dot')"
   ]
  },
  {
   "cell_type": "code",
   "execution_count": null,
   "metadata": {},
   "outputs": [],
   "source": []
  }
 ],
 "metadata": {
  "kernelspec": {
   "display_name": "Python 3",
   "language": "python",
   "name": "python3"
  },
  "language_info": {
   "codemirror_mode": {
    "name": "ipython",
    "version": 3
   },
   "file_extension": ".py",
   "mimetype": "text/x-python",
   "name": "python",
   "nbconvert_exporter": "python",
   "pygments_lexer": "ipython3",
   "version": "3.7.3"
  }
 },
 "nbformat": 4,
 "nbformat_minor": 2
}
